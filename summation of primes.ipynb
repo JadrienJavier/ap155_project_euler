{
 "cells": [
  {
   "cell_type": "code",
   "execution_count": 15,
   "id": "9112c699-eba3-4f9f-b1d2-bd2d5cda9b0a",
   "metadata": {},
   "outputs": [
    {
     "name": "stdout",
     "output_type": "stream",
     "text": [
      "142913828922\n"
     ]
    }
   ],
   "source": [
    "number = 2000000\n",
    "total = 0\n",
    "prime = 2\n",
    "\n",
    "for i in range(prime, number):              \n",
    "    for j in range(prime, int(i ** 0.5) + 1):  \n",
    "        if i % j == 0:                  \n",
    "            break                       \n",
    "    else:                               \n",
    "        total = total + i\n",
    "print(total)"
   ]
  }
 ],
 "metadata": {
  "kernelspec": {
   "display_name": "Python [conda env:base] *",
   "language": "python",
   "name": "conda-base-py"
  },
  "language_info": {
   "codemirror_mode": {
    "name": "ipython",
    "version": 3
   },
   "file_extension": ".py",
   "mimetype": "text/x-python",
   "name": "python",
   "nbconvert_exporter": "python",
   "pygments_lexer": "ipython3",
   "version": "3.13.5"
  }
 },
 "nbformat": 4,
 "nbformat_minor": 5
}
