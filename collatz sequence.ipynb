{
 "cells": [
  {
   "cell_type": "code",
   "execution_count": 16,
   "id": "b455aa9f-c980-4da7-93e0-7b56a6e98ab8",
   "metadata": {},
   "outputs": [
    {
     "name": "stdout",
     "output_type": "stream",
     "text": [
      "Longest chain starts at: 837799\n",
      "Length of chain: 525\n"
     ]
    }
   ],
   "source": [
    "def collatz_length(i):\n",
    "    length = 1\n",
    "    while i != 1:\n",
    "        if i % 2 == 0:\n",
    "            i = i // 2\n",
    "        else:\n",
    "            i = 3 * i + 1\n",
    "        length = length + 1\n",
    "    return length\n",
    "\n",
    "max_length = 0\n",
    "starting_number = 0\n",
    "\n",
    "for j in range(1, 1000000):\n",
    "    length = collatz_length(j)\n",
    "    if length > max_length:\n",
    "        max_length = length\n",
    "        starting_number = j\n",
    "\n",
    "print(\"Longest chain starts at:\", starting_number)\n",
    "print(\"Length of chain:\", max_length)"
   ]
  }
 ],
 "metadata": {
  "kernelspec": {
   "display_name": "Python [conda env:base] *",
   "language": "python",
   "name": "conda-base-py"
  },
  "language_info": {
   "codemirror_mode": {
    "name": "ipython",
    "version": 3
   },
   "file_extension": ".py",
   "mimetype": "text/x-python",
   "name": "python",
   "nbconvert_exporter": "python",
   "pygments_lexer": "ipython3",
   "version": "3.13.5"
  }
 },
 "nbformat": 4,
 "nbformat_minor": 5
}
